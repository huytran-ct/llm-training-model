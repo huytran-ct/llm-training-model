{
 "cells": [
  {
   "cell_type": "code",
   "execution_count": 4,
   "metadata": {},
   "outputs": [
    {
     "data": {
      "application/vnd.jupyter.widget-view+json": {
       "model_id": "a523b7ac465d4247a1c2fe9c79d67488",
       "version_major": 2,
       "version_minor": 0
      },
      "text/plain": [
       "Loading checkpoint shards:   0%|          | 0/3 [00:00<?, ?it/s]"
      ]
     },
     "metadata": {},
     "output_type": "display_data"
    }
   ],
   "source": [
    "# pip install accelerate\n",
    "from transformers import AutoTokenizer, AutoModelForCausalLM, BitsAndBytesConfig\n",
    "import torch\n",
    "\n",
    "quantization_config = BitsAndBytesConfig(load_in_4bit=True)\n",
    "\n",
    "\n",
    "tokenizer = AutoTokenizer.from_pretrained(\"bigscience/bloomz-560m\")\n",
    "model = AutoModelForCausalLM.from_pretrained(\n",
    "    \"bigscience/bloomz-560m\",\n",
    "    device_map=\"mps\"\n",
    ")\n"
   ]
  },
  {
   "cell_type": "code",
   "execution_count": 10,
   "metadata": {},
   "outputs": [],
   "source": [
    "input_text = \"Write me a poem about Machine Learning.\"\n",
    "input_ids = tokenizer(input_text, return_tensors=\"pt\").to(\"mps\")\n",
    "\n",
    "outputs = model.generate(**input_ids, max_new_tokens=32)\n",
    "# print(tokenizer.decode(outputs[0]))"
   ]
  },
  {
   "cell_type": "code",
   "execution_count": 11,
   "metadata": {},
   "outputs": [
    {
     "name": "stdout",
     "output_type": "stream",
     "text": [
      "<bos>Write me a poem about Machine Learning.\n",
      "\n",
      "[Answer 1]\n",
      "\n",
      "<strong>Machine Learning</strong>\n",
      "\n",
      "Machine learning is a field of study that is very much like a machine.\n",
      "\n",
      "It is a field\n"
     ]
    }
   ],
   "source": [
    "print(tokenizer.decode(outputs[0]))"
   ]
  },
  {
   "cell_type": "code",
   "execution_count": 12,
   "metadata": {},
   "outputs": [
    {
     "name": "stdout",
     "output_type": "stream",
     "text": [
      "==========\n",
      "Prompt: <|begin_of_text|><|start_header_id|>system<|end_header_id|>\n",
      "\n",
      "Cutting Knowledge Date: December 2023\n",
      "Today Date: 11 Nov 2024\n",
      "\n",
      "<|eot_id|><|start_header_id|>user<|end_header_id|>\n",
      "\n",
      "hello<|eot_id|><|start_header_id|>assistant<|end_header_id|>\n",
      "\n",
      "\n",
      "Hello! How can I assist you today?\n",
      "==========\n",
      "Prompt: 37 tokens, 144.493 tokens-per-sec\n",
      "Generation: 10 tokens, 40.326 tokens-per-sec\n",
      "Peak memory: 1.726 GB\n"
     ]
    }
   ],
   "source": [
    "from mlx_lm import load, generate, lora\n",
    "\n",
    "model, tokenizer = load(\"mlx-community/Llama-3.2-3B-Instruct-4bit\")\n"
   ]
  },
  {
   "cell_type": "code",
   "execution_count": 31,
   "metadata": {},
   "outputs": [
    {
     "name": "stdout",
     "output_type": "stream",
     "text": [
      "==========\n",
      "Prompt: <|begin_of_text|><|start_header_id|>system<|end_header_id|>\n",
      "\n",
      "Cutting Knowledge Date: December 2023\n",
      "Today Date: 11 Nov 2024\n",
      "\n",
      "<|eot_id|><|start_header_id|>user<|end_header_id|>\n",
      "\n",
      "## System: you are expert moderator on Chotot platform. Your task is to map products and their attributes to the most appropriate Chotot categories dict_keys(['Căn Hộ/Chung Cư', 'Nhà Ở', 'Văn Phòng, Mặt Bằng Kinh Doanh', 'Đất', 'Phòng Trọ', 'Ô Tô', 'Xe Máy', 'Phụ Tùng Xe', 'Xe Tải, Xe Ben', 'Xe Đạp', 'Phương Tiện Khác', 'Xe Điện', 'Mẹ Và Bé', 'Quần Áo', 'Đồng Hồ', 'Giày Dép', 'Túi Xách', 'Nước Hoa', 'Phụ Kiện Thời Trang Khác', 'Đồ Sưu Tầm, Đồ Cổ', 'Đồ Thể Thao, Dã Ngoại', 'Nhạc Cụ', 'Thiết Bị Chơi Game', 'Sở Thích Khác', 'Sách', 'Điện Thoại', 'Tivi, Âm Thanh', 'Laptop', 'Máy Tính Bảng', 'Máy Ảnh, Máy Quay', 'Phụ Kiện (Màn Hình, Chuột...)', 'Máy Tính Để Bàn', 'Linh Kiện (Ram, Card...)', 'Thiết Bị Đeo Thông Minh', 'Dịch Vụ', 'Du Lịch', 'Đồ Ăn, Thực Phẩm Và Các Loại Khác', 'Đồ Dùng Văn Phòng', 'Đồ Chuyên Dụng, Giống Nuôi Trồng', 'Tủ Lạnh', 'Máy Lạnh, Điều Hoà', 'Máy Giặt', 'Gà', 'Chó', 'Chim', 'Phụ Kiện, Thức Ăn, Dịch Vụ', 'Mèo', 'Thú Cưng Khác', 'Việc Làm', 'Người Tìm Việc', 'Bếp, Lò, Đồ Điện Nhà Bếp', 'Dụng Cụ Nhà Bếp', 'Giường, Chăn Ra Gối Nệm', 'Thiết Bị Vệ Sinh Nhà Tắm', 'Quạt', 'Đèn', 'Bàn Ghế', 'Tủ Kệ Gia Đình', 'Cây Cảnh, Đồ Trang Trí', 'Nội Thất, Đồ Gia Dụng Khác']). And follow below instructions: \n",
      "\n",
      "# Category mapping rules: \n",
      "\n",
      "    - Carefully analyze the attributes provided for each product, such as category, product_name.\n",
      "    - Products related to \"tai nghe, headphone\" should be mapped to \"tivi, âm thanh\" category. \n",
      "\n",
      "    - Products related to \"xe hơi, ô tô và ô tô kiểu bán tải (pickup)\" should be mapped to \"ô tô\". \n",
      "\n",
      "    - Products related to \"xe tải, xe ben, xe van\" should be mapped to \"xe tải, xe ben\". \n",
      "\n",
      "    - The categories \"ô tô, xe máy, xe đạp, xe đạp điện, xe tải, xe ben, phương tiện khác\" only include vehicle product, not included vehicle parts. \n",
      "\n",
      "    - Products related to \"xe khách, xe công trình, các loại xe chuyên dụng xe cẩu, máy xúc, xe lu\" should be mapped to \"phương tiện khác\". \n",
      "\n",
      "    - Products related to \"thiết bị y tế, xe lăn, chăm sóc sức khoẻ\" should be mapped to \"đồ chuyên dụng, giống nuôi trồng\". \n",
      "\n",
      "    - Products related to \"usb, cổng chia mạng, bộ phát wifi, thiết bị mạng, sạc điện thoại laptop\" should be mapped to \"phụ kiện (màn hình, chuột...)\". \n",
      "\n",
      "    - Products related to \"linh kiện điện thoại và máy tính, vỏ ipad, vỏ điện thoại, nguồn, card màn hình, màn hình điện thoại, màn hình ipad, ram, main\" should be mapped to \"linh kiện (ram, card...)'\". \n",
      "\n",
      "    - Products related to \"camera, camera an ninh\" should be mapped to \"máy ảnh, máy quay\". \n",
      "\n",
      "    - Products related to \"máy chiếu, thiết bị chiếu, máy in\" should be mapped to \"đồ dùng văn phòng\". \n",
      "\n",
      "    - Only products related to \"sách\" belongs to \"sách\" \n",
      "\n",
      "    - Products related to \"đồ chơi trẻ em, quần áo trẻ em\" should be mapped to \"mẹ và bé\" \n",
      "\n",
      "    - Products related to \"đồng hồ thông minh, vòng tay thông minh\" should be mapped to \"thiết bị đeo thông minh\" \n",
      "\n",
      "    - Products related to \"sofa, các loại ghế, ghế massage, bàn ăn, các loại bàn\" should be mapped to bàn ghế\"\n",
      "\n",
      "## User: Please map the following attributes {\"category\": \"Tai nghe\", \"attributes\": {\"brand\": \"Vinh.NX\", \"model\": \"Tai nghe Bluetooth\", \"color\": \"Trắng\", \"product_type\": \"Tai nghe không dây\", \"connectivity\": \"Bluetooth\"}, \"title\": \"Tai nghe Bluetooth Vinh.NX Trắng\", \"description\": \"Tai nghe Bluetooth Vinh.NX Trắng là một lựa chọn tuyệt vời cho những ai muốn trải nghiệm âm thanh chất lượng cao với thiết kế nhỏ gọn và tiện lợi. Tai nghe được trang bị công nghệ Bluetooth tiên tiến, cho phép kết nối nhanh chóng và ổn định với các thiết bị di động. Với thiết kế nhỏ gọn và nhẹ nhàng, tai nghe rất dễ dàng mang theo bên mình, phù hợp cho mọi hoạt động. \", \"price\": 0, \"object_index\": 0} to Chotot categories.  \n",
      "the respond in JSON format without explanation: {category:<category_name>}<|eot_id|><|start_header_id|>assistant<|end_header_id|>\n",
      "\n",
      "\n",
      "{\"category\":\"Tivi, Âm Thanh\"}\n",
      "==========\n",
      "Prompt: 1247 tokens, 441.382 tokens-per-sec\n",
      "Generation: 11 tokens, 40.439 tokens-per-sec\n",
      "Peak memory: 2.000 GB\n"
     ]
    }
   ],
   "source": [
    "prompt=\"\"\"\n",
    "## System: you are expert moderator on Chotot platform. Your task is to map products and their attributes to the most appropriate Chotot categories dict_keys(['Căn Hộ/Chung Cư', 'Nhà Ở', 'Văn Phòng, Mặt Bằng Kinh Doanh', 'Đất', 'Phòng Trọ', 'Ô Tô', 'Xe Máy', 'Phụ Tùng Xe', 'Xe Tải, Xe Ben', 'Xe Đạp', 'Phương Tiện Khác', 'Xe Điện', 'Mẹ Và Bé', 'Quần Áo', 'Đồng Hồ', 'Giày Dép', 'Túi Xách', 'Nước Hoa', 'Phụ Kiện Thời Trang Khác', 'Đồ Sưu Tầm, Đồ Cổ', 'Đồ Thể Thao, Dã Ngoại', 'Nhạc Cụ', 'Thiết Bị Chơi Game', 'Sở Thích Khác', 'Sách', 'Điện Thoại', 'Tivi, Âm Thanh', 'Laptop', 'Máy Tính Bảng', 'Máy Ảnh, Máy Quay', 'Phụ Kiện (Màn Hình, Chuột...)', 'Máy Tính Để Bàn', 'Linh Kiện (Ram, Card...)', 'Thiết Bị Đeo Thông Minh', 'Dịch Vụ', 'Du Lịch', 'Đồ Ăn, Thực Phẩm Và Các Loại Khác', 'Đồ Dùng Văn Phòng', 'Đồ Chuyên Dụng, Giống Nuôi Trồng', 'Tủ Lạnh', 'Máy Lạnh, Điều Hoà', 'Máy Giặt', 'Gà', 'Chó', 'Chim', 'Phụ Kiện, Thức Ăn, Dịch Vụ', 'Mèo', 'Thú Cưng Khác', 'Việc Làm', 'Người Tìm Việc', 'Bếp, Lò, Đồ Điện Nhà Bếp', 'Dụng Cụ Nhà Bếp', 'Giường, Chăn Ra Gối Nệm', 'Thiết Bị Vệ Sinh Nhà Tắm', 'Quạt', 'Đèn', 'Bàn Ghế', 'Tủ Kệ Gia Đình', 'Cây Cảnh, Đồ Trang Trí', 'Nội Thất, Đồ Gia Dụng Khác']). And follow below instructions: \n",
    "\n",
    "# Category mapping rules: \n",
    "\n",
    "    - Carefully analyze the attributes provided for each product, such as category, product_name.\n",
    "    - Products related to \"tai nghe, headphone\" should be mapped to \"tivi, âm thanh\" category. \n",
    "\n",
    "    - Products related to \"xe hơi, ô tô và ô tô kiểu bán tải (pickup)\" should be mapped to \"ô tô\". \n",
    "\n",
    "    - Products related to \"xe tải, xe ben, xe van\" should be mapped to \"xe tải, xe ben\". \n",
    "\n",
    "    - The categories \"ô tô, xe máy, xe đạp, xe đạp điện, xe tải, xe ben, phương tiện khác\" only include vehicle product, not included vehicle parts. \n",
    "\n",
    "    - Products related to \"xe khách, xe công trình, các loại xe chuyên dụng xe cẩu, máy xúc, xe lu\" should be mapped to \"phương tiện khác\". \n",
    "\n",
    "    - Products related to \"thiết bị y tế, xe lăn, chăm sóc sức khoẻ\" should be mapped to \"đồ chuyên dụng, giống nuôi trồng\". \n",
    "\n",
    "    - Products related to \"usb, cổng chia mạng, bộ phát wifi, thiết bị mạng, sạc điện thoại laptop\" should be mapped to \"phụ kiện (màn hình, chuột...)\". \n",
    "\n",
    "    - Products related to \"linh kiện điện thoại và máy tính, vỏ ipad, vỏ điện thoại, nguồn, card màn hình, màn hình điện thoại, màn hình ipad, ram, main\" should be mapped to \"linh kiện (ram, card...)'\". \n",
    "\n",
    "    - Products related to \"camera, camera an ninh\" should be mapped to \"máy ảnh, máy quay\". \n",
    "\n",
    "    - Products related to \"máy chiếu, thiết bị chiếu, máy in\" should be mapped to \"đồ dùng văn phòng\". \n",
    "\n",
    "    - Only products related to \"sách\" belongs to \"sách\" \n",
    "\n",
    "    - Products related to \"đồ chơi trẻ em, quần áo trẻ em\" should be mapped to \"mẹ và bé\" \n",
    "\n",
    "    - Products related to \"đồng hồ thông minh, vòng tay thông minh\" should be mapped to \"thiết bị đeo thông minh\" \n",
    "\n",
    "    - Products related to \"sofa, các loại ghế, ghế massage, bàn ăn, các loại bàn\" should be mapped to bàn ghế\"\n",
    "\n",
    "## User: Please map the following attributes {\"category\": \"Tai nghe\", \"attributes\": {\"brand\": \"Vinh.NX\", \"model\": \"Tai nghe Bluetooth\", \"color\": \"Trắng\", \"product_type\": \"Tai nghe không dây\", \"connectivity\": \"Bluetooth\"}, \"title\": \"Tai nghe Bluetooth Vinh.NX Trắng\", \"description\": \"Tai nghe Bluetooth Vinh.NX Trắng là một lựa chọn tuyệt vời cho những ai muốn trải nghiệm âm thanh chất lượng cao với thiết kế nhỏ gọn và tiện lợi. Tai nghe được trang bị công nghệ Bluetooth tiên tiến, cho phép kết nối nhanh chóng và ổn định với các thiết bị di động. Với thiết kế nhỏ gọn và nhẹ nhàng, tai nghe rất dễ dàng mang theo bên mình, phù hợp cho mọi hoạt động. \", \"price\": 0, \"object_index\": 0} to Chotot categories.  \n",
    "the respond in JSON format without explanation: {category:<category_name>}\n",
    "\"\"\"\n",
    "\n",
    "if hasattr(tokenizer, \"apply_chat_template\") and tokenizer.chat_template is not None:\n",
    "    messages = [{\"role\": \"user\", \"content\": prompt}]\n",
    "    prompt = tokenizer.apply_chat_template(\n",
    "        messages, tokenize=False, add_generation_prompt=True\n",
    "    )\n",
    "\n",
    "response = generate(model, tokenizer, prompt=prompt, verbose=True)"
   ]
  },
  {
   "cell_type": "code",
   "execution_count": 28,
   "metadata": {},
   "outputs": [
    {
     "data": {
      "text/plain": [
       "{'category': 'Phụ kiện (màn hình, chuột...)'}"
      ]
     },
     "execution_count": 28,
     "metadata": {},
     "output_type": "execute_result"
    }
   ],
   "source": [
    "import json\n",
    "json.loads(response)"
   ]
  },
  {
   "cell_type": "code",
   "execution_count": null,
   "metadata": {},
   "outputs": [],
   "source": []
  }
 ],
 "metadata": {
  "kernelspec": {
   "display_name": "hugging_face_env",
   "language": "python",
   "name": "hugging_face_env"
  },
  "language_info": {
   "codemirror_mode": {
    "name": "ipython",
    "version": 3
   },
   "file_extension": ".py",
   "mimetype": "text/x-python",
   "name": "python",
   "nbconvert_exporter": "python",
   "pygments_lexer": "ipython3",
   "version": "3.12.5"
  },
  "orig_nbformat": 4,
  "vscode": {
   "interpreter": {
    "hash": "aee8b7b246df8f9039afb4144a1f6fd8d2ca17a180786b69acc140d282b71a49"
   }
  }
 },
 "nbformat": 4,
 "nbformat_minor": 2
}
